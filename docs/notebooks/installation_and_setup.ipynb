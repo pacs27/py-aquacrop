{
 "cells": [
  {
   "cell_type": "markdown",
   "id": "7ec74834",
   "metadata": {},
   "source": [
    "# 01_installation_and_setup.ipynb\n",
    "\n",
    "# Check installation"
   ]
  },
  {
   "cell_type": "code",
   "execution_count": null,
   "id": "b286f421",
   "metadata": {},
   "outputs": [],
   "source": [
    "import sys\n",
    "print(f\"Python version: {sys.version}\")"
   ]
  },
  {
   "cell_type": "markdown",
   "id": "a84d48b7",
   "metadata": {},
   "source": [
    "# Install aquacrop if not already installed"
   ]
  },
  {
   "cell_type": "code",
   "execution_count": null,
   "id": "3ac7f89b",
   "metadata": {},
   "outputs": [],
   "source": [
    "%pip uninstall aquacrop  --yes"
   ]
  },
  {
   "cell_type": "code",
   "execution_count": null,
   "id": "492ed7d9",
   "metadata": {},
   "outputs": [],
   "source": [
    "\n",
    "%pip install -e .."
   ]
  },
  {
   "cell_type": "markdown",
   "id": "fe24a1ea",
   "metadata": {},
   "source": [
    "# Import and check version"
   ]
  },
  {
   "cell_type": "code",
   "execution_count": null,
   "id": "289d9d54",
   "metadata": {},
   "outputs": [],
   "source": [
    "import aquacrop\n",
    "print(f\"AquaCrop Python API version: {aquacrop.__version__}\")"
   ]
  },
  {
   "cell_type": "markdown",
   "id": "3e102d10",
   "metadata": {},
   "source": [
    "# Check if AquaCrop executable is available"
   ]
  },
  {
   "cell_type": "code",
   "execution_count": null,
   "id": "beda794d",
   "metadata": {},
   "outputs": [],
   "source": [
    "import os\n",
    "import platform\n",
    "\n",
    "system = platform.system().lower()\n",
    "if system == 'linux':\n",
    "    exe_path = os.path.join('..', 'model', 'linux', 'aquacrop')\n",
    "elif system == 'darwin':  # macOS\n",
    "    exe_path = os.path.join('..', 'model', 'macOS', 'aquacrop')\n",
    "elif system == 'windows':\n",
    "    exe_path = os.path.join('..', 'model', 'windows', 'aquacrop.exe')\n",
    "\n",
    "if os.path.exists(exe_path):\n",
    "    print(f\"AquaCrop executable found at: {exe_path}\")\n",
    "else:\n",
    "    print(f\"AquaCrop executable NOT found at: {exe_path}\")\n",
    "    print(\"Please download the appropriate executable and place it in the correct directory.\")"
   ]
  }
 ],
 "metadata": {
  "kernelspec": {
   "display_name": "aquacrop_py",
   "language": "python",
   "name": "python3"
  },
  "language_info": {
   "codemirror_mode": {
    "name": "ipython",
    "version": 3
   },
   "file_extension": ".py",
   "mimetype": "text/x-python",
   "name": "python",
   "nbconvert_exporter": "python",
   "pygments_lexer": "ipython3",
   "version": "3.9.20"
  }
 },
 "nbformat": 4,
 "nbformat_minor": 5
}
